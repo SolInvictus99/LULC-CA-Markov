{
  "cells": [
    {
      "cell_type": "code",
      "execution_count": null,
      "metadata": {
        "colab": {
          "base_uri": "https://localhost:8080/"
        },
        "id": "iCc5MAJqylpl",
        "outputId": "0f77dd2d-860b-4530-cace-6053a8ea294d"
      },
      "outputs": [
        {
          "output_type": "stream",
          "name": "stdout",
          "text": [
            "Requirement already satisfied: tabulate in /usr/local/lib/python3.7/dist-packages (0.8.9)\n",
            "Drive already mounted at /content/drive; to attempt to forcibly remount, call drive.mount(\"/content/drive\", force_remount=True).\n"
          ]
        }
      ],
      "source": [
        "from PIL import Image\n",
        "import numpy as np\n",
        "import random\n",
        "!pip install -U -q PyDrive\n",
        "!pip install tabulate\n",
        "from tabulate import tabulate\n",
        "from pydrive.auth import GoogleAuth\n",
        "from pydrive.drive import GoogleDrive\n",
        "from google.colab import auth\n",
        "from oauth2client.client import GoogleCredentials\n",
        "auth.authenticate_user()\n",
        "gauth = GoogleAuth()\n",
        "gauth.credentials = GoogleCredentials.get_application_default()\n",
        "drive = GoogleDrive(gauth)\n",
        "from google.colab import drive\n",
        "drive.mount('/content/drive')"
      ]
    },
    {
      "cell_type": "code",
      "execution_count": null,
      "metadata": {
        "id": "t_qKpUIQy_Be"
      },
      "outputs": [],
      "source": [
        "red = np.array([255,0,0])\n",
        "dgreen = np.array([0,128,0])\n",
        "blue = np.array([0,0,255])\n",
        "yellow = np.array([255,255,0])\n",
        "lgreen = np.array([0,255,0])\n",
        "white = np.array([255,255,255])\n",
        "colors = [red, yellow, blue, dgreen, lgreen]\n",
        "\n",
        "def color(x):\n",
        "    if((x==blue).all()):\n",
        "        return 0\n",
        "    elif((x==red).all()):\n",
        "        return 1    \n",
        "    elif((x==lgreen).all()):\n",
        "        return 2    \n",
        "    elif((x==dgreen).all()):\n",
        "        return 3  \n",
        "    elif((x==yellow).all()):\n",
        "        return 4  \n",
        "    else:\n",
        "        return 5\n",
        "def colorRet(x):\n",
        "    if(x==0):\n",
        "        return blue #Water\n",
        "    elif(x==1):\n",
        "        return red #Urban\n",
        "    elif(x==2):\n",
        "        return lgreen #Water Vegetation\n",
        "    elif(x==3):\n",
        "        return dgreen #Vegetation\n",
        "    elif(x==4):\n",
        "        return yellow #Barren lands\n",
        "    elif(x==5):\n",
        "        return white #Other\n",
        "\n",
        "class markovImg:\n",
        "    def __init__(self, data):\n",
        "        #self.path = filepath\n",
        "        #self.npimg = np.array(Image.open(filepath))\n",
        "        self.npimg = data\n",
        "        self.imgH = self.npimg.shape[0] #height\n",
        "        self.imgL = self.npimg.shape[1] #Length\n",
        "        self.nbr = np.full((self.imgH, self.imgL), -1)\n",
        "        #self.classes = [0,0,0,0,0]\n",
        "        for i in range (self.imgH):\n",
        "            for j in range (self.imgL):\n",
        "                self.nbr[i][j] = self.neighbor(i, j)\n",
        "        #        k = self.pxlc(i, j)\n",
        "        #        if(k < 5):\n",
        "        #          self.classes[k] += 1\n",
        "        #self.total = sum(self.classes)\n",
        "        #for i in self.classes:\n",
        "        #    i = i / self.total\n",
        "    @classmethod\n",
        "    def link(self, filepath):\n",
        "        return markovImg (np.array(Image.open(filepath)))\n",
        "    def pxl(self, x, y):\n",
        "        return self.npimg[x][y]\n",
        "    def pxlc (self, x, y):\n",
        "        return color(self.npimg[x][y])\n",
        "    def h(self):\n",
        "        return self.imgH\n",
        "    def l(self):\n",
        "        return self.imgL\n",
        "    def neighbor(self, x, y):\n",
        "        n=0\n",
        "        try:\n",
        "            nlist = [(self.pxlc(x+1, y+1)), (self.pxlc(x, y+1)), (self.pxlc(x-1, y+1)), (self.pxlc(x+1, y)), (self.pxlc(x-1, y)), (self.pxlc(x+1, y-1)), (self.pxlc(x, y-1)),  (self.pxlc(x-1, y-1))]\n",
        "            n2 = [i for i in nlist if i>4]\n",
        "            if(n2==[] and self.pxlc(x,y)<5):\n",
        "                n = nlist.count(0) + 10 * nlist.count(1) + 100 * nlist.count(2) + 1000 * nlist.count(3) + 10000 * nlist.count(4) + 100000 * color(self.pxl(x, y))\n",
        "                return n\n",
        "            else:\n",
        "                return -1\n",
        "        except:\n",
        "            return -1"
      ]
    },
    {
      "cell_type": "code",
      "execution_count": null,
      "metadata": {
        "id": "ZoStCwKYy_V2"
      },
      "outputs": [],
      "source": [
        "def markovPredict(img1, img2, filename = \"newimg.bmp\"):\n",
        "    if (img1.h() == img2.h() and img1.l() == img2.l()):\n",
        "        m = np.full((5,5),0)\n",
        "        m = m.astype(np.float32)\n",
        "        for i in range (img1.h()):\n",
        "            for j in range (img1.l()):                \n",
        "                if (color(img1.pxl(i, j)) < 5 and  color(img2.pxl(i, j)) < 5):\n",
        "                    m [color(img1.pxl(i, j))] [color(img2.pxl(i, j))] += 1\n",
        "        rowsum = m.sum(axis=1)\n",
        "        for i in range (5):\n",
        "            for j in range (5):\n",
        "                m[i][j] = m[i][j] / rowsum[i]\n",
        "        for i in range (5):\n",
        "            for j in range (4):\n",
        "                m[i][j+1] += m[i][j]\n",
        "        newimg = np.full((img1.h(), img1.l(), 3), 255, dtype = np.uint8)\n",
        "        for i in range(img1.h()):\n",
        "            for j in range(img1.l()):\n",
        "                if (color(img1.pxl(i, j)) <= 4 and color(img2.pxl(i, j))<=4):\n",
        "                    x = float(random.randint(0, 1000000))/1000000\n",
        "                    y = color(img2.pxl(i, j))\n",
        "                    for k in range(5):\n",
        "                        if(x<=m[y][k]):\n",
        "                            newimg[i][j] = colorRet(k)\n",
        "                            break\n",
        "        img = Image.fromarray(newimg, 'RGB')\n",
        "        img.save(filename)\n",
        "        img.show()"
      ]
    },
    {
      "cell_type": "code",
      "execution_count": null,
      "metadata": {
        "id": "suqXwFF-z3Ql"
      },
      "outputs": [],
      "source": [
        "def CAgen(img1, img2, img3):\n",
        "    if (img1.h() == img2.h() == img3.h() and img1.l() == img2.l() == img3.l()):\n",
        "        occ = {}\n",
        "        #n2 = np.full((img1.h(), img1.l()), 0)\n",
        "        for i in range (img1.h()):\n",
        "            for j in range (img1.l()):\n",
        "                if(img1.nbr[i][j] != -1 and img2.nbr[i][j] != -1):\n",
        "                    k = img1.nbr[i][j]\n",
        "                    k2 = img2.nbr[i][j]\n",
        "                    if k in [*occ]:\n",
        "                        if (img2.pxlc(i,j) < 5):\n",
        "                            occ[k][img2.pxlc(i,j)] = occ[k][img2.pxlc(i,j)] + 1\n",
        "                    else:\n",
        "                        occ[k] = [0,0,0,0,0]\n",
        "                        occ[k][img2.pxlc(i,j)] = occ[k][img2.pxlc(i,j)] + 1\n",
        "                    if k2 in [*occ]:\n",
        "                        if (img3.pxlc(i,j) < 5):\n",
        "                            occ[k2][img3.pxlc(i,j)] = occ[k2][img3.pxlc(i,j)] + 1\n",
        "                    else:\n",
        "                        occ[k2] = [0,0,0,0,0]\n",
        "                        if (img3.pxlc(i,j) < 5):\n",
        "                            occ[k2][img3.pxlc(i,j)] = occ[k2][img3.pxlc(i,j)] + 1\n",
        "        #for i in occ.values():\n",
        "        #    s = sum(i)\n",
        "        #    for j in i:\n",
        "        #        j = j/\n",
        "        for i in [*occ]:\n",
        "            s = sum(occ[i])\n",
        "            if (s > 1):\n",
        "                for j in range (len(occ[i])):\n",
        "                    occ[i][j] = occ[i][j] / s\n",
        "                    if (j>0):\n",
        "                        occ[i][j] += occ[i][j-1]\n",
        "        return occ\n",
        "def CApredict(occ, ipimg, filename = \"newimg.bmp\", oldname = \"Image 1\", newname = \"Image 2\", mode = 0):\n",
        "    opimg = np.full((ipimg.h(), ipimg.l(), 3), 255)\n",
        "    for i in range (ipimg.h()):\n",
        "        for j in range (ipimg.l()):\n",
        "            if (ipimg.pxlc(i,j)<5):\n",
        "                p = ipimg.nbr[i][j]\n",
        "                if (p in [*occ]):\n",
        "                    #MAXIMUM mode=0\n",
        "                    if(mode==0):\n",
        "                        opimg[i][j] = colorRet (occ[ipimg.nbr[i][j]].index(max(occ[ipimg.nbr[i][j]])))\n",
        "                    #RANDOM mode=1\n",
        "                    if(mode==1):\n",
        "                        x = float(random.randint(0, 1000000))/1000000                    \n",
        "                        for k in range(5):\n",
        "                            if(x<=occ[p][k]):\n",
        "                                opimg[i][j] = colorRet(k)\n",
        "                                break\n",
        "                else:\n",
        "                    opimg[i][j] = ipimg.pxl(i, j)\n",
        "    opimgMarkov = markovImg(opimg)\n",
        "    img = Image.fromarray(opimg.astype('uint8'), 'RGB')\n",
        "    img.save(filename)\n",
        "    img.show()\n",
        "    c = compare (ipimg, opimgMarkov)\n",
        "    row0 = [\"Image\", \"Water\", \"Urban\", \"Water Vegetation\", \"Dense Vegetation\", \"Barren Land\"]\n",
        "    row1 = [oldname] + c[0]\n",
        "    row2 = [\"Change%\", 0,0,0,0,0]\n",
        "    row3 = [newname] + c[1]\n",
        "    for i in range (5):\n",
        "        row2[i+1] = (int(row3[i+1]) / int(row1[i+1]) * 100 - 100) \n",
        "    table = [row0, row1, row2, row3]\n",
        "    print(tabulate(table, headers='firstrow', tablefmt='fancy_grid'))\n",
        "def compare (img1, img2): #\n",
        "    if (img1.h() == img2.h() and img1.l() == img2.l()):\n",
        "        c1 = [0,0,0,0,0]\n",
        "        c2 = [0,0,0,0,0]\n",
        "        for i in range (img1.h()):\n",
        "            for j in range (img1.l()):\n",
        "                if (img1.pxlc(i, j) < 5 and img2.pxlc (i, j) < 5):\n",
        "                    c1 [img1.pxlc(i, j)] += 1\n",
        "                    c2 [img2.pxlc(i, j)] += 1\n",
        "        return [c1, c2]\n"
      ]
    },
    {
      "cell_type": "code",
      "execution_count": null,
      "metadata": {
        "id": "UhweWhSi0NeH"
      },
      "outputs": [],
      "source": [
        "img2000 = markovImg.link(r\"/content/drive/MyDrive/Maps/2000.bmp\")\n",
        "img2015 = markovImg.link(r\"/content/drive/MyDrive/Maps/2015.bmp\")\n",
        "img2010 = markovImg.link(r\"/content/drive/MyDrive/Maps/2010.bmp\")\n",
        "img2020 = markovImg.link(r\"/content/drive/MyDrive/Maps/2020.bmp\")"
      ]
    },
    {
      "cell_type": "code",
      "execution_count": null,
      "metadata": {
        "id": "j0gm-GANz85B"
      },
      "outputs": [],
      "source": [
        "occ = CAgen(img2010, img2015, img2020)"
      ]
    },
    {
      "cell_type": "code",
      "execution_count": null,
      "metadata": {
        "id": "HHVjWCKP0n6m",
        "colab": {
          "base_uri": "https://localhost:8080/"
        },
        "outputId": "cae97f12-a95a-4065-8cfd-d324d22f0270"
      },
      "outputs": [
        {
          "output_type": "stream",
          "name": "stdout",
          "text": [
            "╒═════════╤═════════════╤═════════════╤════════════════════╤════════════════════╤═══════════════╕\n",
            "│ Image   │       Water │       Urban │   Water Vegetation │   Dense Vegetation │   Barren Land │\n",
            "╞═════════╪═════════════╪═════════════╪════════════════════╪════════════════════╪═══════════════╡\n",
            "│ 2020    │ 144562      │ 1.05517e+06 │       296751       │       515734       │  289869       │\n",
            "├─────────┼─────────────┼─────────────┼────────────────────┼────────────────────┼───────────────┤\n",
            "│ Change  │      1.4831 │ 2.8201      │           -5.00757 │           -2.19842 │      -1.96744 │\n",
            "├─────────┼─────────────┼─────────────┼────────────────────┼────────────────────┼───────────────┤\n",
            "│ 2025    │ 146706      │ 1.08493e+06 │       281891       │       504396       │  284166       │\n",
            "╘═════════╧═════════════╧═════════════╧════════════════════╧════════════════════╧═══════════════╛\n"
          ]
        }
      ],
      "source": [
        "CApredict(occ, img2020, filename = \"2020predicted.bmp\", oldname = \"2015\", newname = \"2020\", mode = 1)"
      ]
    },
    {
      "cell_type": "code",
      "source": [
        ""
      ],
      "metadata": {
        "id": "7ouO0Oqd5b5X"
      },
      "execution_count": null,
      "outputs": []
    }
  ],
  "metadata": {
    "colab": {
      "collapsed_sections": [],
      "name": "CAmarkov.ipynb",
      "provenance": []
    },
    "kernelspec": {
      "display_name": "Python 3",
      "name": "python3"
    },
    "language_info": {
      "name": "python"
    }
  },
  "nbformat": 4,
  "nbformat_minor": 0
}